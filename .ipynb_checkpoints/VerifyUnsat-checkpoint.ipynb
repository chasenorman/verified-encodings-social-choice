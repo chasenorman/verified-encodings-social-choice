{
 "cells": [
  {
   "cell_type": "markdown",
   "id": "02fcc94e",
   "metadata": {},
   "source": [
    "# Verify Unsatisfiability\n",
    "\n",
    "This notebooks verifies that the cnf produced by the Lean code is unsatisfiable. "
   ]
  },
  {
   "cell_type": "code",
   "execution_count": 7,
   "id": "d1a34406",
   "metadata": {},
   "outputs": [],
   "source": [
    "from pysat.solvers import Solver\n",
    "from pysat.formula import CNF "
   ]
  },
  {
   "cell_type": "code",
   "execution_count": 8,
   "id": "b5e6385b",
   "metadata": {},
   "outputs": [],
   "source": [
    "solver_names = (\n",
    "    'cadical', \n",
    "    'gluecard3', \n",
    "    'gluecard4', \n",
    "    'glucose3',\n",
    "    'glucose4',\n",
    "    'lingeling', \n",
    "    'maplechrono', \n",
    "    'maplecm',\n",
    "    'maplesat', \n",
    "    'mergesat3', \n",
    "    'minicard', \n",
    "    'minisat22', \n",
    "    'minisat-gh')"
   ]
  },
  {
   "cell_type": "code",
   "execution_count": 9,
   "id": "744f9e1b",
   "metadata": {},
   "outputs": [
    {
     "name": "stdout",
     "output_type": "stream",
     "text": [
      "There are 10889 clauses in the cnf\n"
     ]
    }
   ],
   "source": [
    "\n",
    "cnf = CNF()\n",
    "\n",
    "cnf.from_file(\"./generated.cnf\")\n",
    "\n",
    "print(f\"There are {len([cl for cl in cnf])} clauses in the cnf\")\n"
   ]
  },
  {
   "cell_type": "code",
   "execution_count": 10,
   "id": "f24f72a3",
   "metadata": {},
   "outputs": [
    {
     "name": "stdout",
     "output_type": "stream",
     "text": [
      "Using the cadical SAT solver: \n",
      "The cnf is unsatisfiable.\n",
      "\n",
      "Using the gluecard3 SAT solver: \n",
      "The cnf is unsatisfiable.\n",
      "\n",
      "Using the gluecard4 SAT solver: \n",
      "The cnf is unsatisfiable.\n",
      "\n",
      "Using the glucose3 SAT solver: \n",
      "The cnf is unsatisfiable.\n",
      "\n",
      "Using the glucose4 SAT solver: \n",
      "The cnf is unsatisfiable.\n",
      "\n",
      "Using the lingeling SAT solver: \n",
      "The cnf is unsatisfiable.\n",
      "\n",
      "Using the maplechrono SAT solver: \n",
      "The cnf is unsatisfiable.\n",
      "\n",
      "Using the maplecm SAT solver: \n",
      "The cnf is unsatisfiable.\n",
      "\n",
      "Using the maplesat SAT solver: \n",
      "The cnf is unsatisfiable.\n",
      "\n",
      "Using the mergesat3 SAT solver: \n",
      "The cnf is unsatisfiable.\n",
      "\n",
      "Using the minicard SAT solver: \n",
      "The cnf is unsatisfiable.\n",
      "\n",
      "Using the minisat22 SAT solver: \n",
      "The cnf is unsatisfiable.\n",
      "\n",
      "Using the minisat-gh SAT solver: \n",
      "The cnf is unsatisfiable.\n",
      "\n"
     ]
    }
   ],
   "source": [
    "\n",
    "for sname in solver_names: \n",
    "    print(f\"Using the {sname} SAT solver: \")\n",
    "    \n",
    "    sat_solver = Solver(name=sname)\n",
    "    for cl in cnf:\n",
    "        sat_solver.add_clause(cl)\n",
    "    if sat_solver.solve(): \n",
    "        print(\"The cnf is satisfiable.\")\n",
    "    else: \n",
    "        print(\"The cnf is unsatisfiable.\")\n",
    "    print()\n"
   ]
  },
  {
   "cell_type": "code",
   "execution_count": null,
   "id": "b7ac5006",
   "metadata": {},
   "outputs": [],
   "source": []
  }
 ],
 "metadata": {
  "@webio": {
   "lastCommId": null,
   "lastKernelId": null
  },
  "kernelspec": {
   "display_name": "Python 3",
   "language": "python",
   "name": "python3"
  },
  "language_info": {
   "codemirror_mode": {
    "name": "ipython",
    "version": 3
   },
   "file_extension": ".py",
   "mimetype": "text/x-python",
   "name": "python",
   "nbconvert_exporter": "python",
   "pygments_lexer": "ipython3",
   "version": "3.8.5"
  },
  "varInspector": {
   "cols": {
    "lenName": 16,
    "lenType": 16,
    "lenVar": 40
   },
   "kernels_config": {
    "python": {
     "delete_cmd_postfix": "",
     "delete_cmd_prefix": "del ",
     "library": "var_list.py",
     "varRefreshCmd": "print(var_dic_list())"
    },
    "r": {
     "delete_cmd_postfix": ") ",
     "delete_cmd_prefix": "rm(",
     "library": "var_list.r",
     "varRefreshCmd": "cat(var_dic_list()) "
    }
   },
   "types_to_exclude": [
    "module",
    "function",
    "builtin_function_or_method",
    "instance",
    "_Feature"
   ],
   "window_display": false
  }
 },
 "nbformat": 4,
 "nbformat_minor": 5
}
